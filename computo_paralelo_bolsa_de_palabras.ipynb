{
  "cells": [
    {
      "cell_type": "markdown",
      "metadata": {
        "id": "I91ZHcL0HNg0"
      },
      "source": [
        "# Librerías"
      ]
    },
    {
      "cell_type": "code",
      "execution_count": 2,
      "metadata": {
        "id": "GXaVJCQoHNg2"
      },
      "outputs": [],
      "source": [
        "import pandas as pd\n",
        "import numpy as np\n",
        "import re\n",
        "import nltk\n",
        "import matplotlib.pyplot as plt"
      ]
    },
    {
      "cell_type": "markdown",
      "metadata": {
        "id": "kZeM22TMHNg2"
      },
      "source": [
        "# Corpus etiquetado"
      ]
    },
    {
      "cell_type": "code",
      "execution_count": 16,
      "metadata": {
        "colab": {
          "base_uri": "https://localhost:8080/",
          "height": 257
        },
        "id": "gLsxgk03HNg2",
        "outputId": "07c975c7-6206-43f1-f419-93f18f7ba2fc"
      },
      "outputs": [
        {
          "data": {
            "text/html": [
              "<div>\n",
              "<style scoped>\n",
              "    .dataframe tbody tr th:only-of-type {\n",
              "        vertical-align: middle;\n",
              "    }\n",
              "\n",
              "    .dataframe tbody tr th {\n",
              "        vertical-align: top;\n",
              "    }\n",
              "\n",
              "    .dataframe thead th {\n",
              "        text-align: right;\n",
              "    }\n",
              "</style>\n",
              "<table border=\"1\" class=\"dataframe\">\n",
              "  <thead>\n",
              "    <tr style=\"text-align: right;\">\n",
              "      <th></th>\n",
              "      <th>documento</th>\n",
              "      <th>categoria</th>\n",
              "    </tr>\n",
              "  </thead>\n",
              "  <tbody>\n",
              "    <tr>\n",
              "      <th>0</th>\n",
              "      <td>project,gutenberg,ebook,romeo,juliet,william,s...</td>\n",
              "      <td>shakespeare_romeo_juliet</td>\n",
              "    </tr>\n",
              "    <tr>\n",
              "      <th>1</th>\n",
              "      <td>project,gutenberg,ebook,tale,two,city,charles,...</td>\n",
              "      <td>dickens_a_tale_of_two_cities</td>\n",
              "    </tr>\n",
              "  </tbody>\n",
              "</table>\n",
              "</div>"
            ],
            "text/plain": [
              "                                           documento  \\\n",
              "0  project,gutenberg,ebook,romeo,juliet,william,s...   \n",
              "1  project,gutenberg,ebook,tale,two,city,charles,...   \n",
              "\n",
              "                      categoria  \n",
              "0      shakespeare_romeo_juliet  \n",
              "1  dickens_a_tale_of_two_cities  "
            ]
          },
          "execution_count": 16,
          "metadata": {},
          "output_type": "execute_result"
        }
      ],
      "source": [
        "etiquetas = [\"shakespeare_romeo_juliet\", \"dickens_a_tale_of_two_cities\"]\n",
        "etiquetas = [\"shakespeare_the_merchant_of_venice\",\n",
        "             \"shakespeare_romeo_juliet\",\n",
        "             \"shakespeare_hamlet\",\n",
        "             \"dickens_a_christmas_carol\",\n",
        "             \"dickens_oliver_twist\",\n",
        "             \"dickens_a_tale_of_two_cities\"]\n",
        "corpus = []\n",
        "\n",
        "for etiqueta in etiquetas:\n",
        "  archivo = open(etiqueta + \".txt\", \"r\")\n",
        "  corpus.append(archivo.read())\n",
        "  archivo.close()\n",
        "\n",
        "corpus = np.array(corpus)\n",
        "df_corpus = pd.DataFrame({\"documento\": corpus,\n",
        "                          \"categoria\": etiquetas})\n",
        "df_corpus"
      ]
    },
    {
      "cell_type": "code",
      "execution_count": null,
      "metadata": {
        "id": "opNwAtXAYx1n"
      },
      "outputs": [],
      "source": []
    },
    {
      "cell_type": "markdown",
      "metadata": {
        "id": "Oc39WakxHNg4"
      },
      "source": [
        "# Modelo de Bolsa de Palabras"
      ]
    },
    {
      "cell_type": "code",
      "execution_count": 19,
      "metadata": {
        "colab": {
          "base_uri": "https://localhost:8080/"
        },
        "id": "rPXPWGO3HNg4",
        "outputId": "0ebac5f5-8fb8-46a4-c0b4-de7716dfaa77"
      },
      "outputs": [
        {
          "data": {
            "text/plain": [
              "<2x8913 sparse matrix of type '<class 'numpy.int64'>'\n",
              "\twith 10963 stored elements in Compressed Sparse Row format>"
            ]
          },
          "execution_count": 19,
          "metadata": {},
          "output_type": "execute_result"
        }
      ],
      "source": [
        "from sklearn.feature_extraction.text import CountVectorizer\n",
        "# bolsa de palabras en matriz dispersa\n",
        "count_vectorizer = CountVectorizer(min_df=0.0, max_df=1.0)\n",
        "matriz_conteo = count_vectorizer.fit_transform(corpus)\n",
        "matriz_conteo"
      ]
    },
    {
      "cell_type": "code",
      "execution_count": 14,
      "metadata": {
        "colab": {
          "base_uri": "https://localhost:8080/"
        },
        "id": "rrn5A4sVHNg4",
        "outputId": "c3091fed-cd1a-4a29-f9cc-378ef7c2feab"
      },
      "outputs": [
        {
          "name": "stdout",
          "output_type": "stream",
          "text": [
            "  (0, 2207)\t30\n",
            "  (0, 1287)\t27\n",
            "  (0, 919)\t3\n",
            "  (0, 2388)\t159\n",
            "  (0, 1538)\t69\n",
            "  (0, 3199)\t15\n",
            "  (0, 2506)\t18\n",
            "  (0, 508)\t1\n",
            "  (0, 666)\t1\n",
            "  (0, 614)\t24\n",
            "  (0, 1420)\t2\n",
            "  (0, 3258)\t2\n",
            "  (0, 2091)\t1\n",
            "  (0, 1920)\t3\n",
            "  (0, 3195)\t1\n",
            "  (0, 667)\t1\n",
            "  (0, 2746)\t1\n",
            "  (0, 2497)\t13\n",
            "  (0, 340)\t17\n",
            "  (0, 1737)\t15\n",
            "  (0, 112)\t4\n",
            "  (0, 3182)\t1\n",
            "  (0, 118)\t5\n",
            "  (0, 2544)\t7\n",
            "  (0, 3204)\t7\n",
            "  :\t:\n",
            "  (0, 3267)\t1\n",
            "  (0, 2165)\t1\n",
            "  (0, 519)\t1\n",
            "  (0, 604)\t1\n",
            "  (0, 973)\t1\n",
            "  (0, 3089)\t1\n",
            "  (0, 2191)\t1\n",
            "  (0, 1825)\t1\n",
            "  (0, 2415)\t1\n",
            "  (0, 2372)\t1\n",
            "  (0, 2500)\t1\n",
            "  (0, 2146)\t1\n",
            "  (0, 2846)\t1\n",
            "  (0, 2457)\t1\n",
            "  (0, 362)\t1\n",
            "  (0, 1554)\t1\n",
            "  (0, 2242)\t2\n",
            "  (0, 1528)\t1\n",
            "  (0, 742)\t1\n",
            "  (0, 2693)\t1\n",
            "  (0, 3173)\t1\n",
            "  (0, 1100)\t1\n",
            "  (0, 2416)\t1\n",
            "  (0, 1224)\t1\n",
            "  (0, 1975)\t1\n"
          ]
        }
      ],
      "source": [
        "# ver valores diferentes de cero en la matriz dispersa\n",
        "print(matriz_conteo)"
      ]
    },
    {
      "cell_type": "code",
      "execution_count": 20,
      "metadata": {
        "colab": {
          "base_uri": "https://localhost:8080/"
        },
        "id": "OzmdRBZ_HNg5",
        "outputId": "48da19c4-d11a-4995-f700-fd64457c0a6a"
      },
      "outputs": [
        {
          "data": {
            "text/plain": [
              "array([[3, 1, 2, ..., 0, 1, 2],\n",
              "       [1, 0, 2, ..., 2, 1, 0]])"
            ]
          },
          "execution_count": 20,
          "metadata": {},
          "output_type": "execute_result"
        }
      ],
      "source": [
        "# ver la representación densa\n",
        "matriz_conteo = matriz_conteo.toarray()\n",
        "matriz_conteo"
      ]
    },
    {
      "cell_type": "code",
      "execution_count": 21,
      "metadata": {
        "colab": {
          "base_uri": "https://localhost:8080/",
          "height": 286
        },
        "id": "_tyv80qCHNg5",
        "outputId": "4c81debb-0b0d-4584-ce61-1ef26319bcf7"
      },
      "outputs": [
        {
          "data": {
            "text/html": [
              "<div>\n",
              "<style scoped>\n",
              "    .dataframe tbody tr th:only-of-type {\n",
              "        vertical-align: middle;\n",
              "    }\n",
              "\n",
              "    .dataframe tbody tr th {\n",
              "        vertical-align: top;\n",
              "    }\n",
              "\n",
              "    .dataframe thead th {\n",
              "        text-align: right;\n",
              "    }\n",
              "</style>\n",
              "<table border=\"1\" class=\"dataframe\">\n",
              "  <thead>\n",
              "    <tr style=\"text-align: right;\">\n",
              "      <th></th>\n",
              "      <th>000</th>\n",
              "      <th>08</th>\n",
              "      <th>10</th>\n",
              "      <th>100</th>\n",
              "      <th>12</th>\n",
              "      <th>15</th>\n",
              "      <th>1500</th>\n",
              "      <th>1513</th>\n",
              "      <th>1595</th>\n",
              "      <th>1757</th>\n",
              "      <th>...</th>\n",
              "      <th>yonder</th>\n",
              "      <th>yore</th>\n",
              "      <th>young</th>\n",
              "      <th>yourn</th>\n",
              "      <th>youth</th>\n",
              "      <th>youthful</th>\n",
              "      <th>youthfulness</th>\n",
              "      <th>zealous</th>\n",
              "      <th>zip</th>\n",
              "      <th>zounds</th>\n",
              "    </tr>\n",
              "  </thead>\n",
              "  <tbody>\n",
              "    <tr>\n",
              "      <th>0</th>\n",
              "      <td>3</td>\n",
              "      <td>1</td>\n",
              "      <td>2</td>\n",
              "      <td>1</td>\n",
              "      <td>1</td>\n",
              "      <td>0</td>\n",
              "      <td>0</td>\n",
              "      <td>2</td>\n",
              "      <td>1</td>\n",
              "      <td>0</td>\n",
              "      <td>...</td>\n",
              "      <td>6</td>\n",
              "      <td>0</td>\n",
              "      <td>27</td>\n",
              "      <td>0</td>\n",
              "      <td>6</td>\n",
              "      <td>3</td>\n",
              "      <td>0</td>\n",
              "      <td>0</td>\n",
              "      <td>1</td>\n",
              "      <td>2</td>\n",
              "    </tr>\n",
              "    <tr>\n",
              "      <th>1</th>\n",
              "      <td>1</td>\n",
              "      <td>0</td>\n",
              "      <td>2</td>\n",
              "      <td>0</td>\n",
              "      <td>0</td>\n",
              "      <td>2</td>\n",
              "      <td>1</td>\n",
              "      <td>0</td>\n",
              "      <td>0</td>\n",
              "      <td>1</td>\n",
              "      <td>...</td>\n",
              "      <td>4</td>\n",
              "      <td>1</td>\n",
              "      <td>137</td>\n",
              "      <td>1</td>\n",
              "      <td>10</td>\n",
              "      <td>3</td>\n",
              "      <td>1</td>\n",
              "      <td>2</td>\n",
              "      <td>1</td>\n",
              "      <td>0</td>\n",
              "    </tr>\n",
              "  </tbody>\n",
              "</table>\n",
              "<p>2 rows × 8913 columns</p>\n",
              "</div>"
            ],
            "text/plain": [
              "   000  08  10  100  12  15  1500  1513  1595  1757  ...  yonder  yore  young  \\\n",
              "0    3   1   2    1   1   0     0     2     1     0  ...       6     0     27   \n",
              "1    1   0   2    0   0   2     1     0     0     1  ...       4     1    137   \n",
              "\n",
              "   yourn  youth  youthful  youthfulness  zealous  zip  zounds  \n",
              "0      0      6         3             0        0    1       2  \n",
              "1      1     10         3             1        2    1       0  \n",
              "\n",
              "[2 rows x 8913 columns]"
            ]
          },
          "execution_count": 21,
          "metadata": {},
          "output_type": "execute_result"
        }
      ],
      "source": [
        "# obten todas las palabras únicas del corpus\n",
        "vocabulario = count_vectorizer.get_feature_names_out()\n",
        "# muestra los vectores de características del documento\n",
        "pd.DataFrame(matriz_conteo, columns=vocabulario)"
      ]
    },
    {
      "cell_type": "markdown",
      "metadata": {
        "id": "XUSYpkbLwUIl"
      },
      "source": [
        "#Vocabulario (número de columnas de la matriz)"
      ]
    },
    {
      "cell_type": "code",
      "execution_count": null,
      "metadata": {
        "colab": {
          "base_uri": "https://localhost:8080/"
        },
        "id": "7yhoSszswSoP",
        "outputId": "aed1b810-a683-447d-8d2f-2f18c21e3934"
      },
      "outputs": [
        {
          "name": "stdout",
          "output_type": "stream",
          "text": [
            "3280 ['000' '08' '10' ... 'youthful' 'zip' 'zounds']\n"
          ]
        }
      ],
      "source": [
        "print(len(vocabulario), vocabulario)"
      ]
    }
  ],
  "metadata": {
    "anaconda-cloud": {},
    "colab": {
      "provenance": []
    },
    "kernelspec": {
      "display_name": "Python 3 (ipykernel)",
      "language": "python",
      "name": "python3"
    },
    "language_info": {
      "codemirror_mode": {
        "name": "ipython",
        "version": 3
      },
      "file_extension": ".py",
      "mimetype": "text/x-python",
      "name": "python",
      "nbconvert_exporter": "python",
      "pygments_lexer": "ipython3",
      "version": "3.10.7"
    }
  },
  "nbformat": 4,
  "nbformat_minor": 0
}
